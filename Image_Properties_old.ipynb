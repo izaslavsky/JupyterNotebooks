{
 "cells": [
  {
   "cell_type": "code",
   "execution_count": null,
   "metadata": {
    "collapsed": true
   },
   "outputs": [],
   "source": [
    "import cv2, matplotlib\n",
    "import numpy as np\n",
    "import matplotlib.pyplot as plt\n",
    "from pandas import DataFrame, read_csv\n",
    "import pandas as pd\n",
    "\n",
    "import Image\n",
    "import math\n",
    "from PIL import Image\n",
    "from PIL import ImageStat\n",
    "import os.path"
   ]
  },
  {
   "cell_type": "code",
   "execution_count": null,
   "metadata": {
    "collapsed": true
   },
   "outputs": [],
   "source": [
    "def brightness( im_file ):\n",
    "   im = Image.open(im_file)\n",
    "   status = ImageStat.Stat(im)\n",
    "   r,g,b = status.rms\n",
    "   return math.sqrt(0.241*(r**2) + 0.691*(g**2) + 0.068*(b**2))"
   ]
  },
  {
   "cell_type": "code",
   "execution_count": null,
   "metadata": {
    "collapsed": true
   },
   "outputs": [],
   "source": [
    "def rgb_to_hsv(input):\n",
    "    image = cv2.imread(input, cv2.IMREAD_COLOR)  # uint8 image\n",
    "    norm_image = cv2.normalize(image, alpha=0, beta=1, norm_type=cv2.NORM_MINMAX, dtype=cv2.CV_32F)\n",
    "    return matplotlib.colors.rgb_to_hsv(norm_image)"
   ]
  },
  {
   "cell_type": "code",
   "execution_count": null,
   "metadata": {
    "collapsed": true
   },
   "outputs": [],
   "source": [
    "def hist_gram_blue(input):\n",
    "    imgg = cv2.imread(input)\n",
    "    return cv2.calcHist([imgg],[0],None,[256],[0,256])"
   ]
  },
  {
   "cell_type": "code",
   "execution_count": null,
   "metadata": {
    "collapsed": true
   },
   "outputs": [],
   "source": [
    "def hist_gram_green(input):\n",
    "    imgg = cv2.imread(input)\n",
    "    return cv2.calcHist([imgg],[1],None,[256],[0,256])"
   ]
  },
  {
   "cell_type": "code",
   "execution_count": null,
   "metadata": {
    "collapsed": true
   },
   "outputs": [],
   "source": [
    "def hist_gram_red(input):\n",
    "    imgg = cv2.imread(input)\n",
    "    return cv2.calcHist([imgg],[2],None,[256],[0,256])"
   ]
  },
  {
   "cell_type": "code",
   "execution_count": null,
   "metadata": {
    "collapsed": true
   },
   "outputs": [],
   "source": [
    "#define input output csv files\n",
    "inputcsv = 'ceramic_pmg_nnegev.csv'\n",
    "outputcsv='output.csv'\n",
    "\n",
    "#exception handling\n",
    "if(outputcsv.find('.csv') == -1):\n",
    "    raise ValueError('Output has to be a csv file. It has to end with .csv. Abort ')\n",
    "if(inputcsv.find('.csv') == -1):\n",
    "    raise ValueError('Input has to be a csv file. It has to end with .csv. Abort ')\n",
    "\n",
    "#open csv and get the list of images\n",
    "df=pd.read_csv(inputcsv)\n",
    "image_list=df['#img'].tolist()"
   ]
  },
  {
   "cell_type": "code",
   "execution_count": null,
   "metadata": {
    "collapsed": true
   },
   "outputs": [],
   "source": [
    "#initialize separate lists\n",
    "bright_list=[]\n",
    "hsv_list=[]\n",
    "histogram_blue_list=[]\n",
    "histogram_green_list=[]\n",
    "histogram_red_list=[]\n",
    "\n",
    "\n",
    "#calculate different properties\n",
    "for x in image_list:\n",
    "    img='images/'+x+'.jpg'\n",
    "    #check to make sure it is a valid file\n",
    "    if(not os.path.exists(img)):\n",
    "        raise ValueError('The file does not exist. Please recheck your list in csv. Abort.')\n",
    "    bright_list.append(brightness(img))\n",
    "    hsv_list.append(rgb_to_hsv(img))\n",
    "    histogram_blue_list.append(hist_gram_blue(img))\n",
    "    histogram_green_list.append(hist_gram_green(img))\n",
    "    histogram_red_list.append(hist_gram_red(img))\n",
    "\n",
    "brt = pd.DataFrame({'brightness': bright_list})\n",
    "hsv_l=pd.DataFrame({'hue_saturation_value': hsv_list})\n",
    "hist_b=pd.DataFrame({'histogram_blue': histogram_blue_list})\n",
    "hist_g=pd.DataFrame({'histogram_green': histogram_green_list})\n",
    "hist_r=pd.DataFrame({'histogram_red': histogram_red_list})\n",
    "\n",
    "\n",
    "#concatenate properties to original dataframe\n",
    "result = pd.concat([df, brt,hsv_l,hist_b,hist_g,hist_r], axis=1)\n",
    "\n",
    "#result.head()"
   ]
  },
  {
   "cell_type": "code",
   "execution_count": null,
   "metadata": {
    "collapsed": true
   },
   "outputs": [],
   "source": [
    "#output file\n",
    "result.to_csv(outputcsv, index = False)"
   ]
  }
 ],
 "metadata": {
  "kernelspec": {
   "display_name": "Python 2",
   "language": "python",
   "name": "python2"
  },
  "language_info": {
   "codemirror_mode": {
    "name": "ipython",
    "version": 2
   },
   "file_extension": ".py",
   "mimetype": "text/x-python",
   "name": "python",
   "nbconvert_exporter": "python",
   "pygments_lexer": "ipython2",
   "version": "2.7.11"
  }
 },
 "nbformat": 4,
 "nbformat_minor": 0
}
