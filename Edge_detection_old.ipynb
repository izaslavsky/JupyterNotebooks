{
 "cells": [
  {
   "cell_type": "code",
   "execution_count": null,
   "metadata": {
    "collapsed": true
   },
   "outputs": [],
   "source": [
    "# edge detection, creating polygons, and adding polygon characteristics to csv "
   ]
  },
  {
   "cell_type": "code",
   "execution_count": null,
   "metadata": {
    "collapsed": true
   },
   "outputs": [],
   "source": [
    "import json\n",
    "import cv2, matplotlib\n",
    "import numpy as np\n",
    "import matplotlib.pyplot as plt\n",
    "from pandas import DataFrame, read_csv\n",
    "import pandas as pd\n",
    "\n",
    "import Image\n",
    "import math\n",
    "from PIL import Image,ImageDraw\n",
    "from PIL import ImageStat\n",
    "import os.path\n",
    "from scipy import misc\n",
    "from skimage import color\n",
    "import geojson\n",
    "\n",
    "from skimage import measure\n",
    "from geojson import MultiPolygon\n",
    "from geojson import Feature,FeatureCollection\n"
   ]
  },
  {
   "cell_type": "code",
   "execution_count": null,
   "metadata": {
    "collapsed": true
   },
   "outputs": [],
   "source": [
    "def brightness( im ):\n",
    "   status = ImageStat.Stat(im)\n",
    "   #print status\n",
    "   r,g,b = status.rms\n",
    "   return math.sqrt(0.241*(r**2) + 0.691*(g**2) + 0.068*(b**2))\n"
   ]
  },
  {
   "cell_type": "code",
   "execution_count": null,
   "metadata": {
    "collapsed": true
   },
   "outputs": [],
   "source": [
    "def rgb_to_hsv(image):\n",
    "    hsv= matplotlib.colors.rgb_to_hsv(image)\n",
    "    average= np.average(hsv, axis=0)\n",
    "    average_again = np.average(average, axis=0)\n",
    "    std=np.std(hsv,axis=0)\n",
    "    std_again=np.std(std,axis=0)\n",
    "\n",
    "    return (average_again,std_again)\n"
   ]
  },
  {
   "cell_type": "code",
   "execution_count": null,
   "metadata": {
    "collapsed": true
   },
   "outputs": [],
   "source": [
    "def output_contour_image(image,polygon):\n",
    "\n",
    "   # read image as RGB and add alpha (transparency)\n",
    "   im = Image.open(image).convert(\"RGBA\")\n",
    "\n",
    "   # convert to numpy (for convenience)\n",
    "   imArray = np.asarray(im)\n",
    "\n",
    "   # create mask\n",
    "\n",
    "   maskIm = Image.new('L', (imArray.shape[1], imArray.shape[0]), 0)\n",
    "   ImageDraw.Draw(maskIm).polygon(polygon, outline=1, fill=1)\n",
    "   mask = np.array(maskIm)\n",
    "\n",
    "   # assemble new image (uint8: 0-255)\n",
    "   newImArray = np.empty(imArray.shape,dtype='uint8')\n",
    "\n",
    "   # colors (three first columns, RGB)\n",
    "   newImArray[:,:,:3] = imArray[:,:,:3]\n",
    "\n",
    "   # transparency (4th column)\n",
    "   newImArray[:,:,3] = mask*255\n",
    "\n",
    "   # back to Image from numpy\n",
    "   newIm = Image.fromarray(newImArray, \"RGBA\")\n",
    "\n",
    "   background = Image.new(\"RGB\", newIm.size, (0, 0, 0))\n",
    "   background.paste(newIm, mask=newIm.split()[3]) # 3 is the alpha channel\n",
    "   return background\n"
   ]
  },
  {
   "cell_type": "code",
   "execution_count": null,
   "metadata": {
    "collapsed": true
   },
   "outputs": [],
   "source": [
    "#define input output csv files\n",
    "inputcsv = 'test.csv'\n",
    "outputcsv='output.csv'\n",
    "\n",
    "#exception handling\n",
    "if(outputcsv.find('.csv') == -1):\n",
    "    raise ValueError('Output has to be a csv file. It has to end with .csv. Abort ')\n",
    "if(inputcsv.find('.csv') == -1):\n",
    "    raise ValueError('Input has to be a csv file. It has to end with .csv. Abort ')\n",
    "\n",
    "#open csv and get the list of images\n",
    "df=pd.read_csv(inputcsv)\n",
    "image_list=df['#img'].tolist()\n"
   ]
  },
  {
   "cell_type": "code",
   "execution_count": null,
   "metadata": {
    "collapsed": true
   },
   "outputs": [],
   "source": [
    "#calculate different properties\n",
    "for x in image_list:\n",
    "    img='images/'+str(x)+'.jpg'\n",
    "    print img\n",
    "    contour_list=[]\n",
    "    outputcsv=x+'/'+x+'.csv'\n",
    "    if not os.path.exists(str(x)):\n",
    "       os.makedirs(str(x))\n",
    "\n",
    "    #check to make sure it is a valid file\n",
    "    if(not os.path.exists(img)):\n",
    "        raise ValueError('The file does not exist. Please recheck your list in csv. Abort.')\n",
    "        \n",
    "    fimg = misc.imread(img)\n",
    "    gimg = color.colorconv.rgb2grey(fimg)\n",
    "    contours = measure.find_contours(gimg, 0.8)\n",
    "    for n, contour in enumerate(contours):\n",
    "        element=[]\n",
    "        for z in contour:\n",
    "            t=(z[1],z[0])\n",
    "            element.append(t)\n",
    "            \n",
    "        contour_list.append(element)\n",
    "    count=1   \n",
    "    \n",
    "    #csv files\n",
    "    bright_list=[]\n",
    "    geoj=[]\n",
    "    hue_average=[]\n",
    "    SD_hue=[]\n",
    "    saturation_average=[]\n",
    "    SD_saturation=[]\n",
    "    value_average=[]\n",
    "    SD_value=[]\n",
    "    multi_pol=[]\n",
    "    ID_C=1\n",
    "    \n",
    "    for c in contour_list:\n",
    "        result=output_contour_image(img,c)\n",
    "        result.save(''+str(x)+'/'+'countour_'+str(count)+'.jpg')\n",
    "        \n",
    "        \n",
    "        my_poly=geojson.Polygon([c])\n",
    "        my_feature = Feature(geometry=my_poly,id=ID_C)\n",
    "        multi_pol.append(my_feature)\n",
    "\n",
    "        \n",
    "        with open(''+x+'/'+'countour_'+str(count)+'.geojson', 'w') as outfile:\n",
    "            geojson.dump(my_poly,outfile)\n",
    "            \n",
    "        bright_list.append(brightness(result))\n",
    "        geoj.append(ID_C)\n",
    "        ID_C=ID_C+1        \n",
    "        \n",
    "        hsv_result= rgb_to_hsv(result)\n",
    "        hue_average.append(hsv_result[0][0])\n",
    "        saturation_average.append(hsv_result[0][1])\n",
    "        value_average.append(hsv_result[0][2])\n",
    "    \n",
    "        SD_hue.append(hsv_result[1][0])\n",
    "        SD_saturation.append(hsv_result[1][1])\n",
    "        SD_value.append(hsv_result[1][2])\n",
    "        count=count+1\n",
    "        \n",
    "        \n",
    "    mul_p=FeatureCollection(multi_pol)\n",
    "    with open(''+str(x)+'/'+'all_polygons.geojson', 'w') as outfile:\n",
    "        geojson.dump(mul_p,outfile)\n",
    "        \n",
    "    brt = pd.DataFrame({'brightness': bright_list})\n",
    "    g = pd.DataFrame({'GeoJson Object id': geoj}) \n",
    "    hue_average=[x*255 for x in hue_average]\n",
    "    SD_hue=[x*255 for x in SD_hue]\n",
    "    saturation_average=[x*255 for x in saturation_average]\n",
    "    SD_saturation=[x*255 for x in SD_saturation]\n",
    "    h_a=pd.DataFrame({'hue_average': hue_average})\n",
    "    sat_a=pd.DataFrame({'saturation_average': saturation_average})\n",
    "    val_a=pd.DataFrame({'value_average': value_average})\n",
    "    h_sd=pd.DataFrame({'hue_STD': SD_hue})\n",
    "    sat_sd=pd.DataFrame({'saturation_STD': SD_saturation})\n",
    "    val_sd=pd.DataFrame({'value_STD': SD_value})\n",
    "    \n",
    "    result1 = pd.concat([g,brt,sat_sd,sat_a,val_a,val_sd,h_a,h_sd], axis=1)\n",
    "    result1.to_csv(outputcsv, index = False)"
   ]
  }
 ],
 "metadata": {
  "kernelspec": {
   "display_name": "Python 2",
   "language": "python",
   "name": "python2"
  },
  "language_info": {
   "codemirror_mode": {
    "name": "ipython",
    "version": 2
   },
   "file_extension": ".py",
   "mimetype": "text/x-python",
   "name": "python",
   "nbconvert_exporter": "python",
   "pygments_lexer": "ipython2",
   "version": "2.7.11"
  }
 },
 "nbformat": 4,
 "nbformat_minor": 0
}
